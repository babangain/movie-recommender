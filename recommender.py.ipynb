{
 "cells": [
  {
   "cell_type": "code",
   "execution_count": 7,
   "metadata": {
    "run_control": {
     "marked": true
    }
   },
   "outputs": [
    {
     "name": "stdout",
     "output_type": "stream",
     "text": [
      "Some Error Occured!!! Please enter movie name correctly and ensure they name is exactly same as in the database\n",
      "Na Igre 2. Novyy Uroven\n",
      "Darkened Room\n",
      "Cry_Wolf\n",
      "Kung Fu Panda: Secrets of the Masters\n",
      "Find Me\n",
      "White Squall\n",
      "Trigger Man\n",
      "Shock Treatment\n",
      "Super Sucker\n",
      "Facing Ali\n",
      "From Time to Time\n",
      "Bang Gang (une histoire d'amour moderne)\n",
      "Dream Work\n",
      "The Survivalist\n",
      "Don't Hang Up\n",
      "Autism in Love\n",
      "Moonlight and Valentino\n",
      "MVP: Most Valuable Primate\n",
      "پرده\n",
      "Texas Chainsaw 3D\n"
     ]
    }
   ],
   "source": [
    "from gensim.models.doc2vec import Doc2Vec\n",
    "from sys import argv\n",
    "model = Doc2Vec.load(\"doc2vec_Movie_recommender_vec_150_window_10_mc_2_epochs_50.model\")\n",
    "if len(argv) >= 2:\n",
    "    query = argv[1]\n",
    "if len(argv) == 3:\n",
    "    N = argv[2]\n",
    "lst = []\n",
    "try:\n",
    "    lst = model.docvecs.most_similar(query,topn=N)\n",
    "    for i in range(N):\n",
    "    print(lst[i][0])\n",
    "except:\n",
    "    print(\"Some Error Occured!!! Please enter movie name correctly and ensure they name is exactly same as in the database\")\n"
   ]
  },
  {
   "cell_type": "code",
   "execution_count": null,
   "metadata": {},
   "outputs": [],
   "source": []
  }
 ],
 "metadata": {
  "kernelspec": {
   "display_name": "Python 3",
   "language": "python",
   "name": "python3"
  },
  "language_info": {
   "codemirror_mode": {
    "name": "ipython",
    "version": 3
   },
   "file_extension": ".py",
   "mimetype": "text/x-python",
   "name": "python",
   "nbconvert_exporter": "python",
   "pygments_lexer": "ipython3",
   "version": "3.7.1"
  },
  "varInspector": {
   "cols": {
    "lenName": 16,
    "lenType": 16,
    "lenVar": 40
   },
   "kernels_config": {
    "python": {
     "delete_cmd_postfix": "",
     "delete_cmd_prefix": "del ",
     "library": "var_list.py",
     "varRefreshCmd": "print(var_dic_list())"
    },
    "r": {
     "delete_cmd_postfix": ") ",
     "delete_cmd_prefix": "rm(",
     "library": "var_list.r",
     "varRefreshCmd": "cat(var_dic_list()) "
    }
   },
   "types_to_exclude": [
    "module",
    "function",
    "builtin_function_or_method",
    "instance",
    "_Feature"
   ],
   "window_display": false
  }
 },
 "nbformat": 4,
 "nbformat_minor": 2
}
